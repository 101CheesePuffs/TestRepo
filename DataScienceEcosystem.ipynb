{
 "cells": [
  {
   "cell_type": "markdown",
   "id": "b223ae3f-4939-4ddc-92bf-0b54d11a709b",
   "metadata": {},
   "source": [
    "# Data Science Tools and Ecosystem"
   ]
  },
  {
   "cell_type": "markdown",
   "id": "7febd0b0-1def-4365-a599-e0a7075bc023",
   "metadata": {},
   "source": [
    "##### In this notebook, Data Science Tools and Ecosystem are summarized."
   ]
  },
  {
   "cell_type": "markdown",
   "id": "ddc6d7df-76e8-431c-b32f-91bab48d946d",
   "metadata": {},
   "source": [
    "### **Objectives:**\n",
    "\n",
    "* List popular data science coding languages\n",
    "* List commonoly used libraries by Data Scientists\n",
    "* List development open source tools used in data science\n",
    "* Practice the use of both markdown and code cells\n",
    "* Practice with basic arithmetic expressions"
   ]
  },
  {
   "cell_type": "markdown",
   "id": "86db96b7-1485-41f3-9a05-363fabe41c47",
   "metadata": {},
   "source": [
    "##### Some of the popular languages that Data Scientists use are:\n",
    "1. R\n",
    "2. Python\n",
    "3. Java\n",
    "4. SQL"
   ]
  },
  {
   "cell_type": "markdown",
   "id": "6b09b44c-443b-4bcf-8ab2-b6aadf93d11d",
   "metadata": {},
   "source": [
    "##### Some of the commonly used libraries used by Data Scientists include:\n",
    "1. Pandas\n",
    "2. NumPy\n",
    "3. Matplotlib\n",
    "4. Seaborn\n",
    "5. Scikit-learn\n",
    "6. Keras\n",
    "7. TensorFlow\n",
    "8. PyTorch"
   ]
  },
  {
   "cell_type": "markdown",
   "id": "3abfe5f7-4117-440f-bfbe-c6cd25de3233",
   "metadata": {},
   "source": [
    "#### Data Science Tools\n",
    "| Data Sciecne Tools |\n",
    "| ------------------ |\n",
    "| JupyterLab |\n",
    "| Anaconda |\n",
    "| VS Code |\n",
    "| JupyterLite (cloud based) |\n",
    "\n"
   ]
  },
  {
   "cell_type": "markdown",
   "id": "089511b9-7075-4743-9d46-34bab6ffca56",
   "metadata": {},
   "source": [
    "### Below are a few examples of evaluating arithmetic expressions in Python."
   ]
  },
  {
   "cell_type": "code",
   "execution_count": 1,
   "id": "e11c8d17-9b1f-4ecf-a8f0-8be0c69de612",
   "metadata": {},
   "outputs": [
    {
     "data": {
      "text/plain": [
       "17"
      ]
     },
     "execution_count": 1,
     "metadata": {},
     "output_type": "execute_result"
    }
   ],
   "source": [
    "# This is a simple arithmetic expression to multiply then add integers.\n",
    "(3*4)+5"
   ]
  },
  {
   "cell_type": "code",
   "execution_count": 2,
   "id": "1b9ca0eb-26d0-4ec5-a6ba-9c342c58d7c4",
   "metadata": {},
   "outputs": [
    {
     "data": {
      "text/plain": [
       "3.3333333333333335"
      ]
     },
     "execution_count": 2,
     "metadata": {},
     "output_type": "execute_result"
    }
   ],
   "source": [
    "# This will convert 200 minutes to hours by dividing by 60.\n",
    "200/60"
   ]
  },
  {
   "cell_type": "markdown",
   "id": "8cba3419-6132-4fae-b008-a3a5e158a852",
   "metadata": {},
   "source": [
    "## Author\n",
    "Eric F."
   ]
  },
  {
   "cell_type": "code",
   "execution_count": null,
   "id": "ed0b9f20-de6a-4403-a4be-a123bcc0578f",
   "metadata": {},
   "outputs": [],
   "source": []
  }
 ],
 "metadata": {
  "kernelspec": {
   "display_name": "Python [conda env:base] *",
   "language": "python",
   "name": "conda-base-py"
  },
  "language_info": {
   "codemirror_mode": {
    "name": "ipython",
    "version": 3
   },
   "file_extension": ".py",
   "mimetype": "text/x-python",
   "name": "python",
   "nbconvert_exporter": "python",
   "pygments_lexer": "ipython3",
   "version": "3.13.5"
  }
 },
 "nbformat": 4,
 "nbformat_minor": 5
}
